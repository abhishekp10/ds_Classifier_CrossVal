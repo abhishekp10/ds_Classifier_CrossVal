{
 "cells": [
  {
   "cell_type": "markdown",
   "metadata": {},
   "source": [
    "### Importing all required headers"
   ]
  },
  {
   "cell_type": "code",
   "execution_count": 148,
   "metadata": {},
   "outputs": [],
   "source": [
    "from sklearn.preprocessing import StandardScaler\n",
    "from sklearn import preprocessing\n",
    "from sklearn.decomposition import PCA\n",
    "\n",
    "from numpy import loadtxt\n",
    "\n",
    "from sklearn.model_selection import train_test_split\n",
    "from sklearn.metrics import classification_report, confusion_matrix\n",
    "from sklearn.neighbors import KNeighborsClassifier\n",
    "from sklearn.tree import DecisionTreeClassifier\n",
    "\n",
    "from sklearn.model_selection import KFold\n",
    "\n",
    "from sklearn import metrics\n",
    "\n",
    "from sklearn.model_selection import cross_val_score\n"
   ]
  },
  {
   "cell_type": "markdown",
   "metadata": {},
   "source": [
    "### Import data"
   ]
  },
  {
   "cell_type": "code",
   "execution_count": 3,
   "metadata": {},
   "outputs": [],
   "source": [
    "labels = loadtxt(open(\"labels.csv\",\"rb\"), delimiter=',')\n",
    "data_full = loadtxt(open(\"data.csv\",\"rb\"), delimiter=',')\n",
    "data = data_full[:179,:]"
   ]
  },
  {
   "cell_type": "markdown",
   "metadata": {},
   "source": [
    "### Z scaling"
   ]
  },
  {
   "cell_type": "code",
   "execution_count": 8,
   "metadata": {},
   "outputs": [],
   "source": [
    "z_scaler = StandardScaler()\n",
    "data_z = z_scaler.fit_transform(data)"
   ]
  },
  {
   "cell_type": "markdown",
   "metadata": {},
   "source": [
    "### Zero mean unit variance"
   ]
  },
  {
   "cell_type": "code",
   "execution_count": 7,
   "metadata": {},
   "outputs": [],
   "source": [
    "data_u = preprocessing.scale(data)"
   ]
  },
  {
   "cell_type": "markdown",
   "metadata": {},
   "source": [
    "### PCA preprocessing for feature selection"
   ]
  },
  {
   "cell_type": "code",
   "execution_count": 108,
   "metadata": {},
   "outputs": [],
   "source": [
    "data_zPC = PCA(0.999).fit_transform(X=data_z)\n",
    "data_uPC = PCA(0.999).fit_transform(X=data_u)"
   ]
  },
  {
   "cell_type": "markdown",
   "metadata": {},
   "source": [
    "### N fold cross validation for KNN classifier after PCA for K=5 neighbours"
   ]
  },
  {
   "cell_type": "code",
   "execution_count": 224,
   "metadata": {},
   "outputs": [
    {
     "name": "stdout",
     "output_type": "stream",
     "text": [
      "[0.94736842 1.         0.89473684 1.         0.94444444 1.\n",
      " 0.94117647 0.94117647 0.94117647 1.        ]\n",
      "cvscore mean:0.9610079119367045\n"
     ]
    }
   ],
   "source": [
    "import numpy as np\n",
    "\n",
    "#N fold\n",
    "KNcv = KNeighborsClassifier(n_neighbors=5)\n",
    "cvscore = cross_val_score (KNcv,data_zPC,labels, cv=10)\n",
    "print(cvscore)\n",
    "print('cvscore mean:{}'.format(np.mean(cvscore)))"
   ]
  },
  {
   "cell_type": "markdown",
   "metadata": {},
   "source": [
    "### N fold cross validation for KNN classifier after PCA for K=10 neighbours"
   ]
  },
  {
   "cell_type": "code",
   "execution_count": 220,
   "metadata": {},
   "outputs": [
    {
     "name": "stdout",
     "output_type": "stream",
     "text": [
      "[0.89473684 1.         0.84210526 1.         0.94444444 1.\n",
      " 0.88235294 0.94117647 0.88235294 0.88235294]\n",
      "cvscore mean:0.926952184382525\n"
     ]
    }
   ],
   "source": [
    "import numpy as np\n",
    "\n",
    "#N fold\n",
    "KNcv = KNeighborsClassifier(n_neighbors=10)\n",
    "cvscore = cross_val_score (KNcv,data_uPC,labels, cv=10)\n",
    "print(cvscore)\n",
    "print('cvscore mean:{}'.format(np.mean(cvscore)))"
   ]
  },
  {
   "cell_type": "markdown",
   "metadata": {},
   "source": [
    "### Find optimal value of k in nearest neighbour"
   ]
  },
  {
   "cell_type": "code",
   "execution_count": 237,
   "metadata": {},
   "outputs": [
    {
     "name": "stdout",
     "output_type": "stream",
     "text": [
      "{'metric': 'euclidean', 'n_neighbors': 3, 'weights': 'uniform'}\n",
      "0.9664804469273743\n"
     ]
    },
    {
     "name": "stderr",
     "output_type": "stream",
     "text": [
      "C:\\Users\\Abhishek\\Anaconda3\\lib\\site-packages\\sklearn\\model_selection\\_search.py:813: DeprecationWarning: The default of the `iid` parameter will change from True to False in version 0.22 and will be removed in 0.24. This will change numeric results when test-set sizes are unequal.\n",
      "  DeprecationWarning)\n"
     ]
    }
   ],
   "source": [
    "\n",
    "from sklearn.model_selection import cross_val_score\n",
    "from sklearn.model_selection import GridSearchCV\n",
    "\n",
    "KNcv = KNeighborsClassifier()\n",
    "#create a dictionary of all values we want to test for n_neighbors\n",
    "param_grid = {'n_neighbors': np.arange(3, 20),\n",
    "             'weights':['uniform','distance'],\n",
    "             'metric':['euclidean','manhattan']}\n",
    "\n",
    "#use gridsearch to test all values for n_neighbors\n",
    "knn_gscv = GridSearchCV(KNcv, param_grid, cv=10, n_jobs = -1)#fit model to data\n",
    "knn_gscv.fit(data_zPC, labels)\n",
    "\n",
    "#check top performing n_neighbors value\n",
    "print(knn_gscv.best_params_)\n",
    "\n",
    "#check mean score for the top performing value of n_neighbors\n",
    "print(knn_gscv.best_score_)\n"
   ]
  },
  {
   "cell_type": "markdown",
   "metadata": {},
   "source": [
    "### N fold cross validation for Decision Tree classifier after PCA : Information gain for attribute selection measure, max depth is 10 with best split\n"
   ]
  },
  {
   "cell_type": "code",
   "execution_count": 269,
   "metadata": {},
   "outputs": [
    {
     "name": "stdout",
     "output_type": "stream",
     "text": [
      "[0.89473684 1.         0.84210526 0.88888889 0.94444444 0.94444444\n",
      " 0.82352941 0.88235294 0.82352941 0.94117647]\n",
      "cvscore mean:0.8985208118335054\n"
     ]
    }
   ],
   "source": [
    "\n",
    "from sklearn.model_selection import cross_val_score\n",
    "\n",
    "DTcv = DecisionTreeClassifier(criterion=\"entropy\", max_depth=10,splitter=\"random\")\n",
    "cvscore = cross_val_score (DTcv,data_zPC,labels, cv=10)\n",
    "print(cvscore)\n",
    "print('cvscore mean:{}'.format(np.mean(cvscore)))"
   ]
  },
  {
   "cell_type": "markdown",
   "metadata": {},
   "source": [
    "### N fold cross validation for Decision Tree classifier after PCA : Information gain for attribute selection measure, max depth is 5 with best split"
   ]
  },
  {
   "cell_type": "code",
   "execution_count": 262,
   "metadata": {},
   "outputs": [
    {
     "name": "stdout",
     "output_type": "stream",
     "text": [
      "[0.89473684 1.         0.84210526 1.         0.88888889 1.\n",
      " 0.88235294 0.88235294 0.94117647 0.94117647]\n",
      "cvscore mean:0.9272789817681458\n"
     ]
    }
   ],
   "source": [
    "\n",
    "from sklearn.model_selection import cross_val_score\n",
    "\n",
    "DTcv = DecisionTreeClassifier(criterion=\"entropy\", max_depth=5,splitter=\"best\")\n",
    "cvscore = cross_val_score (DTcv,data_zPC,labels, cv=10)\n",
    "print(cvscore)\n",
    "print('cvscore mean:{}'.format(np.mean(cvscore)))"
   ]
  },
  {
   "cell_type": "markdown",
   "metadata": {},
   "source": [
    "### N fold cross validation for Decision Tree classifier after PCA : Gini index for attribute selection measure, max depth is 10 with best split"
   ]
  },
  {
   "cell_type": "code",
   "execution_count": 212,
   "metadata": {},
   "outputs": [
    {
     "name": "stdout",
     "output_type": "stream",
     "text": [
      "[0.89473684 1.         0.94736842 1.         0.88888889 1.\n",
      " 0.88235294 0.88235294 0.88235294 0.94117647]\n",
      "cvscore mean:0.9319229446164432\n"
     ]
    }
   ],
   "source": [
    "\n",
    "from sklearn.model_selection import cross_val_score\n",
    "\n",
    "DTcv = DecisionTreeClassifier(criterion=\"gini\", max_depth=5,splitter=\"best\")\n",
    "cvscore = cross_val_score (DTcv,data_zPC,labels, cv=10)\n",
    "print(cvscore)\n",
    "print('cvscore mean:{}'.format(np.mean(cvscore)))"
   ]
  },
  {
   "cell_type": "markdown",
   "metadata": {},
   "source": [
    "### N fold cross validation for Decision Tree classifier after PCA : Gini index for attribute selection measure, max depth is 3 with best split"
   ]
  },
  {
   "cell_type": "code",
   "execution_count": 213,
   "metadata": {},
   "outputs": [
    {
     "name": "stdout",
     "output_type": "stream",
     "text": [
      "[0.89473684 1.         0.94736842 1.         0.94444444 1.\n",
      " 0.94117647 0.88235294 0.94117647 0.94117647]\n",
      "cvscore mean:0.9492432060543516\n"
     ]
    }
   ],
   "source": [
    "\n",
    "from sklearn.model_selection import cross_val_score\n",
    "\n",
    "DTcv = DecisionTreeClassifier(criterion=\"gini\", max_depth=3,splitter=\"best\")\n",
    "cvscore = cross_val_score (DTcv,data_zPC,labels, cv=10)\n",
    "print(cvscore)\n",
    "print('cvscore mean:{}'.format(np.mean(cvscore)))"
   ]
  },
  {
   "cell_type": "markdown",
   "metadata": {},
   "source": [
    "### N fold cross validation for Decision Tree classifier after PCA : Gini index for attribute selection measure, max depth is 3 with random split"
   ]
  },
  {
   "cell_type": "code",
   "execution_count": 217,
   "metadata": {
    "scrolled": true
   },
   "outputs": [
    {
     "name": "stdout",
     "output_type": "stream",
     "text": [
      "[0.84210526 1.         0.84210526 0.94444444 0.88888889 1.\n",
      " 0.94117647 0.88235294 1.         0.94117647]\n",
      "cvscore mean:0.9282249742002066\n"
     ]
    }
   ],
   "source": [
    "\n",
    "from sklearn.model_selection import cross_val_score\n",
    "\n",
    "DTcv = DecisionTreeClassifier(criterion=\"gini\", max_depth=3,splitter=\"random\")\n",
    "cvscore = cross_val_score (DTcv,data_zPC,labels, cv=10)\n",
    "print(cvscore)\n",
    "print('cvscore mean:{}'.format(np.mean(cvscore)))"
   ]
  },
  {
   "cell_type": "markdown",
   "metadata": {},
   "source": [
    "### Find optimal decision tree parameters using fine tuning"
   ]
  },
  {
   "cell_type": "code",
   "execution_count": 281,
   "metadata": {},
   "outputs": [
    {
     "name": "stdout",
     "output_type": "stream",
     "text": [
      "{'criterion': 'gini', 'max_depth': 3, 'splitter': 'best'}\n",
      "0.9553072625698324\n"
     ]
    },
    {
     "name": "stderr",
     "output_type": "stream",
     "text": [
      "C:\\Users\\Abhishek\\Anaconda3\\lib\\site-packages\\sklearn\\model_selection\\_search.py:813: DeprecationWarning: The default of the `iid` parameter will change from True to False in version 0.22 and will be removed in 0.24. This will change numeric results when test-set sizes are unequal.\n",
      "  DeprecationWarning)\n"
     ]
    }
   ],
   "source": [
    "\n",
    "from sklearn.model_selection import cross_val_score\n",
    "from sklearn.model_selection import GridSearchCV\n",
    "\n",
    "KNcv = DecisionTreeClassifier()\n",
    "#create a dictionary of all values we want to test for n_neighbors\n",
    "param_grid = {'max_depth': np.arange(3, 20),\n",
    "             'criterion':['gini','entropy'],\n",
    "             'splitter':['best','random']}\n",
    "\n",
    "#use gridsearch to test all values for n_neighbors\n",
    "knn_gscv = GridSearchCV(KNcv, param_grid, cv=10, n_jobs = -1)#fit model to data\n",
    "knn_gscv.fit(data_zPC, labels)\n",
    "\n",
    "#check top performing n_neighbors value\n",
    "print(knn_gscv.best_params_)\n",
    "\n",
    "#check mean score for the top performing value of n_neighbors\n",
    "print(knn_gscv.best_score_)"
   ]
  },
  {
   "cell_type": "code",
   "execution_count": null,
   "metadata": {},
   "outputs": [],
   "source": []
  }
 ],
 "metadata": {
  "kernelspec": {
   "display_name": "Python 3",
   "language": "python",
   "name": "python3"
  },
  "language_info": {
   "codemirror_mode": {
    "name": "ipython",
    "version": 3
   },
   "file_extension": ".py",
   "mimetype": "text/x-python",
   "name": "python",
   "nbconvert_exporter": "python",
   "pygments_lexer": "ipython3",
   "version": "3.7.3"
  }
 },
 "nbformat": 4,
 "nbformat_minor": 2
}
